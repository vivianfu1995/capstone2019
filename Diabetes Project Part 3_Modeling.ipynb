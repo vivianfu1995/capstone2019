{
 "cells": [
  {
   "cell_type": "code",
   "execution_count": 876,
   "metadata": {},
   "outputs": [],
   "source": [
    "# basic python tools for numbers and visualization\n",
    "import numpy as np\n",
    "import pandas as pd\n",
    "import matplotlib.pyplot as plt\n",
    "import seaborn as sns\n",
    "from collections import Counter\n",
    "\n",
    "# statistics tools\n",
    "import scipy.stats as stats\n",
    "import statistics \n",
    "\n",
    "from sklearn import metrics\n",
    "from sklearn.metrics import roc_auc_score\n",
    "from sklearn.metrics import roc_curve\n",
    "from sklearn.metrics import confusion_matrix\n",
    "from sklearn.metrics import classification_report\n",
    "from sklearn import preprocessing \n",
    "from sklearn.preprocessing import LabelEncoder, OneHotEncoder\n",
    "\n",
    "# from sklearn.model_selection import GridSearchCV\n",
    "from sklearn.model_selection import train_test_split\n",
    "from sklearn.model_selection import cross_val_score\n",
    "from sklearn.model_selection import KFold\n",
    "from sklearn.model_selection import StratifiedKFold\n",
    "\n",
    "from sklearn import linear_model\n",
    "from sklearn.linear_model import LogisticRegression\n",
    "from sklearn.linear_model import Perceptron\n",
    "from sklearn.svm import SVC, LinearSVC\n",
    "from sklearn.ensemble import RandomForestClassifier\n",
    "from sklearn.neighbors import KNeighborsClassifier\n",
    "from sklearn.naive_bayes import GaussianNB \n",
    "from sklearn.tree import DecisionTreeClassifier\n",
    "\n",
    "# other tools\n",
    "from functools import reduce\n",
    "from imblearn.over_sampling import SMOTE\n",
    "import itertools\n",
    "import copy\n",
    "\n",
    "# Clear warnings\n",
    "import warnings\n",
    "warnings.filterwarnings('ignore') \n",
    "\n",
    "# show plots inline\n",
    "%matplotlib inline"
   ]
  },
  {
   "cell_type": "markdown",
   "metadata": {},
   "source": [
    "## 0. Load data"
   ]
  },
  {
   "cell_type": "code",
   "execution_count": 877,
   "metadata": {},
   "outputs": [
    {
     "data": {
      "text/html": [
       "<div>\n",
       "<style scoped>\n",
       "    .dataframe tbody tr th:only-of-type {\n",
       "        vertical-align: middle;\n",
       "    }\n",
       "\n",
       "    .dataframe tbody tr th {\n",
       "        vertical-align: top;\n",
       "    }\n",
       "\n",
       "    .dataframe thead th {\n",
       "        text-align: right;\n",
       "    }\n",
       "</style>\n",
       "<table border=\"1\" class=\"dataframe\">\n",
       "  <thead>\n",
       "    <tr style=\"text-align: right;\">\n",
       "      <th></th>\n",
       "      <th>12drinksayear</th>\n",
       "      <th>5drinks2hours</th>\n",
       "      <th>5drinksaday</th>\n",
       "      <th>BMI</th>\n",
       "      <th>LDL</th>\n",
       "      <th>age</th>\n",
       "      <th>diabetes</th>\n",
       "      <th>fasting_glucose</th>\n",
       "      <th>race</th>\n",
       "      <th>sitting</th>\n",
       "      <th>sleeping</th>\n",
       "      <th>sugar</th>\n",
       "      <th>male</th>\n",
       "      <th>female</th>\n",
       "      <th>sysBP</th>\n",
       "      <th>diaBP</th>\n",
       "    </tr>\n",
       "  </thead>\n",
       "  <tbody>\n",
       "    <tr>\n",
       "      <th>0</th>\n",
       "      <td>1.0</td>\n",
       "      <td>-0.145691</td>\n",
       "      <td>1.0</td>\n",
       "      <td>0.228706</td>\n",
       "      <td>3.0</td>\n",
       "      <td>0.238124</td>\n",
       "      <td>0.0</td>\n",
       "      <td>-0.305181</td>\n",
       "      <td>3.0</td>\n",
       "      <td>-0.346925</td>\n",
       "      <td>1.779442e-01</td>\n",
       "      <td>-0.748791</td>\n",
       "      <td>1</td>\n",
       "      <td>0</td>\n",
       "      <td>0.861028</td>\n",
       "      <td>1.443065</td>\n",
       "    </tr>\n",
       "    <tr>\n",
       "      <th>1</th>\n",
       "      <td>1.0</td>\n",
       "      <td>-0.145691</td>\n",
       "      <td>1.0</td>\n",
       "      <td>-0.059931</td>\n",
       "      <td>2.0</td>\n",
       "      <td>1.591575</td>\n",
       "      <td>1.0</td>\n",
       "      <td>-0.722354</td>\n",
       "      <td>3.0</td>\n",
       "      <td>0.545482</td>\n",
       "      <td>-4.540141e-01</td>\n",
       "      <td>-0.177046</td>\n",
       "      <td>1</td>\n",
       "      <td>0</td>\n",
       "      <td>0.598762</td>\n",
       "      <td>-1.928683</td>\n",
       "    </tr>\n",
       "    <tr>\n",
       "      <th>2</th>\n",
       "      <td>0.0</td>\n",
       "      <td>-0.145691</td>\n",
       "      <td>0.0</td>\n",
       "      <td>-1.286642</td>\n",
       "      <td>2.0</td>\n",
       "      <td>-0.357394</td>\n",
       "      <td>0.0</td>\n",
       "      <td>-0.722354</td>\n",
       "      <td>4.0</td>\n",
       "      <td>0.842950</td>\n",
       "      <td>-1.122584e-15</td>\n",
       "      <td>0.596492</td>\n",
       "      <td>0</td>\n",
       "      <td>1</td>\n",
       "      <td>-1.162165</td>\n",
       "      <td>-0.712643</td>\n",
       "    </tr>\n",
       "    <tr>\n",
       "      <th>3</th>\n",
       "      <td>0.0</td>\n",
       "      <td>-0.145691</td>\n",
       "      <td>0.0</td>\n",
       "      <td>-0.088795</td>\n",
       "      <td>2.0</td>\n",
       "      <td>1.266747</td>\n",
       "      <td>0.0</td>\n",
       "      <td>-0.152666</td>\n",
       "      <td>1.0</td>\n",
       "      <td>-1.784690</td>\n",
       "      <td>8.099026e-01</td>\n",
       "      <td>-1.206187</td>\n",
       "      <td>0</td>\n",
       "      <td>1</td>\n",
       "      <td>-0.300435</td>\n",
       "      <td>-0.823192</td>\n",
       "    </tr>\n",
       "    <tr>\n",
       "      <th>4</th>\n",
       "      <td>1.0</td>\n",
       "      <td>-0.145691</td>\n",
       "      <td>1.0</td>\n",
       "      <td>-0.175387</td>\n",
       "      <td>2.0</td>\n",
       "      <td>-1.440155</td>\n",
       "      <td>0.0</td>\n",
       "      <td>-0.448724</td>\n",
       "      <td>4.0</td>\n",
       "      <td>0.842950</td>\n",
       "      <td>-7.699933e-01</td>\n",
       "      <td>-0.523456</td>\n",
       "      <td>1</td>\n",
       "      <td>0</td>\n",
       "      <td>-0.750033</td>\n",
       "      <td>0.337574</td>\n",
       "    </tr>\n",
       "  </tbody>\n",
       "</table>\n",
       "</div>"
      ],
      "text/plain": [
       "   12drinksayear  5drinks2hours  5drinksaday       BMI  LDL       age  \\\n",
       "0            1.0      -0.145691          1.0  0.228706  3.0  0.238124   \n",
       "1            1.0      -0.145691          1.0 -0.059931  2.0  1.591575   \n",
       "2            0.0      -0.145691          0.0 -1.286642  2.0 -0.357394   \n",
       "3            0.0      -0.145691          0.0 -0.088795  2.0  1.266747   \n",
       "4            1.0      -0.145691          1.0 -0.175387  2.0 -1.440155   \n",
       "\n",
       "   diabetes  fasting_glucose  race   sitting      sleeping     sugar  male  \\\n",
       "0       0.0        -0.305181   3.0 -0.346925  1.779442e-01 -0.748791     1   \n",
       "1       1.0        -0.722354   3.0  0.545482 -4.540141e-01 -0.177046     1   \n",
       "2       0.0        -0.722354   4.0  0.842950 -1.122584e-15  0.596492     0   \n",
       "3       0.0        -0.152666   1.0 -1.784690  8.099026e-01 -1.206187     0   \n",
       "4       0.0        -0.448724   4.0  0.842950 -7.699933e-01 -0.523456     1   \n",
       "\n",
       "   female     sysBP     diaBP  \n",
       "0       0  0.861028  1.443065  \n",
       "1       0  0.598762 -1.928683  \n",
       "2       1 -1.162165 -0.712643  \n",
       "3       1 -0.300435 -0.823192  \n",
       "4       0 -0.750033  0.337574  "
      ]
     },
     "execution_count": 877,
     "metadata": {},
     "output_type": "execute_result"
    }
   ],
   "source": [
    "df0 = pd.read_csv('Diabetes Project Part 2.csv')\n",
    "df = df0.copy(deep=True)\n",
    "df.head()"
   ]
  },
  {
   "cell_type": "markdown",
   "metadata": {},
   "source": [
    "## 1. Split data into train & test sets\n"
   ]
  },
  {
   "cell_type": "code",
   "execution_count": 878,
   "metadata": {},
   "outputs": [],
   "source": [
    "def simple_split(X,y,test_size):\n",
    "    print()\n",
    "    print('simple split')\n",
    "    X_train, X_test, y_train, y_test = train_test_split(X,y,test_size=0.2,random_state = 2)\n",
    "    return X_train, X_test, y_train, y_test"
   ]
  },
  {
   "cell_type": "markdown",
   "metadata": {},
   "source": [
    "* Cross validation:\n",
    "\n",
    "    1. K fold: \n",
    "        * For classification problems, stratified sampling is recommended for creating the folds. Each response class should be represented with equal proportions in each of the K fold. Each cross-validation fold should consist of exactly 20% db. Scikit-learn's cross_val_score function does stratified sampling by default. StratifiedKFold - different from oversampling issue. \n",
    "        * Need to perform SMOTE within each fold. Accordingly, you need to avoid train_test_split in favour of KFold(set the value for the test_size parameter to 0 if want to call fn above)\n",
    "    2. Leave one out\n",
    "          * K-fold cross validation taken to its logical extreme, with K equal to N, the number of data points in the set\n"
   ]
  },
  {
   "cell_type": "code",
   "execution_count": 879,
   "metadata": {},
   "outputs": [],
   "source": [
    "def kfold_split(X, y, model): \n",
    "    print('kfold split')\n",
    "    test_accuracies = []\n",
    "    train_accuracies = []\n",
    "    kf = KFold(n_splits=10)\n",
    "    \n",
    "    # 1. Split into test and train sets\n",
    "    for train_index, test_index in kf.split(X, y):\n",
    "        X_train, X_test = X[train_index], X[test_index]\n",
    "        y_train, y_test = y[train_index], y[test_index]\n",
    "        \n",
    "        # 2. Oversample y - SMOTE\n",
    "        X_train, X_test, y_train, y_test = implement_SMOTE(X_train, X_test, y_train, y_test)\n",
    "        \n",
    "        # 3. ML models\n",
    "        test_accuracy, train_accuracy = get_predictions(X_train, X_test, y_train, y_test, model, split_method='kfold')\n",
    "        test_accuracies.append(test_accuracy)\n",
    "        train_accuracies.append(train_accuracy)\n",
    "\n",
    "    test_mean_accuracy = statistics.mean(test_accuracies)\n",
    "    test_std = statistics.stdev(test_accuracies)\n",
    "    train_mean_accuracy = statistics.mean(train_accuracies)\n",
    "    train_std = statistics.stdev(train_accuracies)\n",
    "    print('Test Mean accuracy:',test_mean_accuracy)\n",
    "    print('Train Mean accuracy:',train_mean_accuracy)\n",
    "\n",
    "#     print('Test accuracies:',test_accuracies)\n",
    "#     print('Test_std:',test_std)  \n",
    "#     print('Train_std:',train_std) \n",
    "    "
   ]
  },
  {
   "cell_type": "code",
   "execution_count": 880,
   "metadata": {},
   "outputs": [],
   "source": [
    "def stratified_kfold_split(X, y, model): \n",
    "    print()\n",
    "    print('stratified kfold split')\n",
    "    test_accuracies = []\n",
    "    train_accuracies = []\n",
    "    skf = StratifiedKFold(n_splits=10)\n",
    "    \n",
    "    # 1. Split into test and train sets\n",
    "    for train_index, test_index in skf.split(X, y):\n",
    "        X_train, X_test = X[train_index], X[test_index]\n",
    "        y_train, y_test = y[train_index], y[test_index]\n",
    "        \n",
    "        # 2. Oversample y - SMOTE\n",
    "        X_train, X_test, y_train, y_test = implement_SMOTE(X_train, X_test, y_train, y_test)\n",
    "        \n",
    "        # 3. ML models\n",
    "        test_accuracy, train_accuracy = get_predictions(X_train, X_test, y_train, y_test, model, split_method='kfold')\n",
    "        test_accuracies.append(test_accuracy)\n",
    "        train_accuracies.append(train_accuracy)\n",
    "\n",
    "    test_mean_accuracy = statistics.mean(test_accuracies)\n",
    "    test_std = statistics.stdev(test_accuracies)\n",
    "    train_mean_accuracy = statistics.mean(train_accuracies)\n",
    "    train_std = statistics.stdev(train_accuracies)\n",
    "    print('Test Mean accuracy:',test_mean_accuracy)\n",
    "    print('Train Mean accuracy:',train_mean_accuracy)\n",
    "\n",
    "#     print('Test accuracies:',test_accuracies)\n",
    "#     print('Test_std:',test_std)  \n",
    "#     print('Train_std:',train_std)"
   ]
  },
  {
   "cell_type": "code",
   "execution_count": 881,
   "metadata": {},
   "outputs": [],
   "source": [
    "# def leave_one_out_split():\n",
    "#     return "
   ]
  },
  {
   "cell_type": "markdown",
   "metadata": {},
   "source": [
    "## 2. Oversample [y] - SMOTE\n",
    "\n",
    "The dependent variable 'diabetes' is imbalanced. If we train a model without fixing this problem, the model will be completely biased."
   ]
  },
  {
   "cell_type": "code",
   "execution_count": 882,
   "metadata": {
    "scrolled": false
   },
   "outputs": [
    {
     "data": {
      "text/plain": [
       "<matplotlib.axes._subplots.AxesSubplot at 0x1a208609e8>"
      ]
     },
     "execution_count": 882,
     "metadata": {},
     "output_type": "execute_result"
    },
    {
     "data": {
      "image/png": "[encoded data removed]",
      "text/plain": [
       "<Figure size 432x288 with 1 Axes>"
      ]
     },
     "metadata": {},
     "output_type": "display_data"
    }
   ],
   "source": [
    "sns.countplot(x=\"diabetes\",data=df0,palette='hls')"
   ]
  },
  {
   "cell_type": "markdown",
   "metadata": {},
   "source": [
    "* ### SMOTE\n",
    "SMOTE (Synthetic Minority Over-sampling Technique). In simple terms, it looks at the feature space for the minority class data points and considers its k nearest neighbours. If we don't deal with the disproportionate ratio, the model will consider diabetes samples (~20%) as trivial and predict them as healthy. If so, the model can still have high accuracy (~0.8) but it's fake accuracy \n",
    "* training set expands after oversampling\n"
   ]
  },
  {
   "cell_type": "code",
   "execution_count": 883,
   "metadata": {},
   "outputs": [],
   "source": [
    "def implement_SMOTE(X_train, X_test, y_train, y_test):\n",
    "    sm = SMOTE(random_state=2)\n",
    "    X_train_oversampled, y_train_oversampled = sm.fit_sample(X_train, y_train.ravel())\n",
    "    \n",
    "#     print('Before OverSampling: yes diabetes - ', sum(y_train==1),'   no diabetes - ',sum(y_train==0))\n",
    "#     print('After OverSampling:  yes diabetes - ', sum(y_train_oversampled==1),'  no diabetes - ',sum(y_train_oversampled==0))\n",
    "    \n",
    "    return X_train_oversampled, X_test, y_train_oversampled, y_test"
   ]
  },
  {
   "cell_type": "markdown",
   "metadata": {},
   "source": [
    "## 3. Machine learning models"
   ]
  },
  {
   "cell_type": "code",
   "execution_count": 884,
   "metadata": {},
   "outputs": [],
   "source": [
    "def build_clf(model):\n",
    "    if model == 'logistic regression': \n",
    "        clf = LogisticRegression(C=9,dual=False)\n",
    "    elif model == 'knn':\n",
    "        clf = KNeighborsClassifier(n_neighbors = 3) \n",
    "    elif model == 'SVC':\n",
    "        clf = SVC(probability=True)\n",
    "    elif model == 'random forest':\n",
    "        clf = RandomForestClassifier(n_estimators=500) \n",
    "    elif model == 'linear SVC':\n",
    "        clf = LinearSVC(C=1000,dual=False)\n",
    "    else:\n",
    "        print('This model is not included yet. Add this model now!')\n",
    "    return clf"
   ]
  },
  {
   "cell_type": "code",
   "execution_count": 885,
   "metadata": {},
   "outputs": [],
   "source": [
    "def get_predictions(X_train, X_test, y_train, y_test, model, split_method):\n",
    "    clf = build_clf(model)\n",
    "    clf = clf.fit(X_train,y_train)                \n",
    "    y_train_predictions = clf.predict(X_train)\n",
    "    y_test_predictions = clf.predict(X_test)\n",
    "    \n",
    "    test_accuracy = clf.score(X_test, y_test)\n",
    "    train_accuracy = clf.score(X_train, y_train)\n",
    "    \n",
    "    if split_method == 'kfold' or split_method == 'stratified kfold':\n",
    "        return test_accuracy, train_accuracy\n",
    "    elif split_method == 'simple':\n",
    "        print('Testing set accuracy:', test_accuracy)\n",
    "        print('Training set accuracy:', train_accuracy)\n",
    "        print() \n",
    "        return clf, y_test_predictions\n",
    "    else:\n",
    "        print('split method not defined')"
   ]
  },
  {
   "cell_type": "markdown",
   "metadata": {},
   "source": [
    "## 4. Analysis"
   ]
  },
  {
   "cell_type": "markdown",
   "metadata": {},
   "source": [
    "        # probability = clf.predict_proba(X_test)[:, 1] \n",
    "        \n",
    "- Probability of having diabetes for each participant. What is threshold for the probability above which we classify as having diabetes? It seems reasonable, at least at first, to take the threshold to be 0.5. Use ROC to visualize how the performance of the classifier changes as we vary the threshold.\n",
    "- threshold = 0: all participants are classified as having diabetes. No false negatives (FN: have db but classified as healthy) - recall/TPR = 1. No true negatives (TN: healthy classified as healthy) - FPR = 1 -> TOP RIGHT OF THE ROC CURVE\n",
    "- threshold = 1: BOTTOM LEFT OF THE ROC CURVE\n",
    "- TP rate is 1 and the FP rate is 0 — that is, no diabetes patients are classified as healthy people and no healthy people are classified as diabetes patients. This is the point of perfect classification.\n",
    "                    \n"
   ]
  },
  {
   "cell_type": "code",
   "execution_count": 886,
   "metadata": {},
   "outputs": [],
   "source": [
    "def plot_roc_curve(y_test,y_test_predictions,model,probability):\n",
    "    roc_auc = roc_auc_score(y_test, y_test_predictions)\n",
    "    fpr, tpr, thresholds = roc_curve(y_test, probability)\n",
    "    plt.figure()\n",
    "    plt.plot(fpr, tpr)\n",
    "    plt.plot([0, 1], [0, 1],'r--')\n",
    "    plt.xlim([0.0, 1.0])\n",
    "    plt.ylim([0.0, 1.05])\n",
    "    plt.xlabel('False Positive Rate')\n",
    "    plt.ylabel('True Positive Rate')\n",
    "    plt.title(model + '  --  AUC: = %0.2f' % roc_auc)\n",
    "    plt.legend(['ROC','Completely random'],loc=\"lower right\")\n",
    "    plt.show()\n",
    "\n",
    "def plot_confusion_matrix(y_test, y_test_predictions):\n",
    "    cm = confusion_matrix(y_test, y_test_predictions)\n",
    "    print('Confusion matrix:')\n",
    "    print(cm)\n",
    "    \n",
    "    plt.matshow(cm)\n",
    "    plt.title('Confusion matrix')\n",
    "    plt.colorbar()\n",
    "    plt.ylabel('True label')\n",
    "    plt.xlabel('Predicted label')\n",
    "    plt.show()"
   ]
  },
  {
   "cell_type": "code",
   "execution_count": 887,
   "metadata": {},
   "outputs": [],
   "source": [
    "def analysis(X_test, y_test, y_test_predictions, model, clf):\n",
    "    # confusion matrix\n",
    "    plot_confusion_matrix(y_test, y_test_predictions)\n",
    "    \n",
    "    # ROC - AUC\n",
    "    if model == 'linear SVC': # linear SVC has no predict_proba\n",
    "        pass                  \n",
    "    else: \n",
    "        probability = clf.predict_proba(X_test)[:, 1] \n",
    "        plot_roc_curve(y_test,y_test_predictions,model,probability)\n",
    "    \n",
    "    # Classification report\n",
    "    print(classification_report(y_test, y_test_predictions))\n"
   ]
  },
  {
   "cell_type": "markdown",
   "metadata": {},
   "source": [
    "## 5. MAIN"
   ]
  },
  {
   "cell_type": "code",
   "execution_count": 888,
   "metadata": {},
   "outputs": [],
   "source": [
    "def main(df, model, split_method):\n",
    "    y = df['diabetes'].values\n",
    "    X = df.drop(['diabetes'],axis = 1).values\n",
    "    \n",
    "    #### 1. Split data \n",
    "    #### 2. Oversample - y\n",
    "    #### 3. Modeling\n",
    "    #### 4. Analysis\n",
    "    \n",
    "    if split_method == 'simple':\n",
    "        X_train, X_test, y_train, y_test = simple_split(X,y,test_size=0.2)\n",
    "        X_train, X_test, y_train, y_test = implement_SMOTE(X_train, X_test, y_train, y_test)\n",
    "        clf, y_test_predictions = get_predictions(X_train, X_test, y_train, y_test, model, split_method)\n",
    "        analysis(X_test, y_test, y_test_predictions, model, clf)\n",
    "        \n",
    "    elif split_method == 'kfold':\n",
    "        kfold_split(X, y, model)\n",
    "    elif split_method == 'stratified kfold':\n",
    "        stratified_kfold_split(X, y, model)\n",
    "    \n",
    "    else: print('split_method is not defined...')"
   ]
  },
  {
   "cell_type": "markdown",
   "metadata": {},
   "source": [
    "# RUN\n"
   ]
  },
  {
   "cell_type": "markdown",
   "metadata": {},
   "source": [
    "#### Logistic regression\n",
    "- Remove correlated variables"
   ]
  },
  {
   "cell_type": "code",
   "execution_count": 889,
   "metadata": {},
   "outputs": [
    {
     "name": "stdout",
     "output_type": "stream",
     "text": [
      "kfold split\n",
      "Test Mean accuracy: 0.8403846153846154\n",
      "Train Mean accuracy: 0.8395651559091446\n",
      "\n",
      "stratified kfold split\n",
      "Test Mean accuracy: 0.8361538461538461\n",
      "Train Mean accuracy: 0.8401709401709402\n",
      "\n",
      "simple split\n",
      "Testing set accuracy: 0.8461538461538461\n",
      "Training set accuracy: 0.8291245791245792\n",
      "\n",
      "Confusion matrix:\n",
      "[[365  63]\n",
      " [ 17  75]]\n"
     ]
    },
    {
     "data": {
      "image/png": "[encoded data removed]",
      "text/plain": [
       "<Figure size 288x288 with 2 Axes>"
      ]
     },
     "metadata": {},
     "output_type": "display_data"
    },
    {
     "data": {
      "image/png": "[encoded data removed]",
      "text/plain": [
       "<Figure size 432x288 with 1 Axes>"
      ]
     },
     "metadata": {},
     "output_type": "display_data"
    },
    {
     "name": "stdout",
     "output_type": "stream",
     "text": [
      "              precision    recall  f1-score   support\n",
      "\n",
      "         0.0       0.96      0.85      0.90       428\n",
      "         1.0       0.54      0.82      0.65        92\n",
      "\n",
      "   micro avg       0.85      0.85      0.85       520\n",
      "   macro avg       0.75      0.83      0.78       520\n",
      "weighted avg       0.88      0.85      0.86       520\n",
      "\n"
     ]
    }
   ],
   "source": [
    "main(df,'logistic regression',split_method = 'kfold')\n",
    "main(df,'logistic regression',split_method = 'stratified kfold')\n",
    "main(df,'logistic regression',split_method = 'simple')"
   ]
  },
  {
   "cell_type": "code",
   "execution_count": 890,
   "metadata": {},
   "outputs": [
    {
     "name": "stdout",
     "output_type": "stream",
     "text": [
      "kfold split\n",
      "Test Mean accuracy: 0.8042307692307692\n",
      "Train Mean accuracy: 0.9534676504737902\n",
      "\n",
      "stratified kfold split\n",
      "Test Mean accuracy: 0.8088461538461538\n",
      "Train Mean accuracy: 0.9538712921065863\n",
      "\n",
      "simple split\n",
      "Testing set accuracy: 0.8192307692307692\n",
      "Training set accuracy: 0.952020202020202\n",
      "\n",
      "Confusion matrix:\n",
      "[[367  61]\n",
      " [ 33  59]]\n"
     ]
    },
    {
     "data": {
      "image/png": "[encoded data removed]",
      "text/plain": [
       "<Figure size 288x288 with 2 Axes>"
      ]
     },
     "metadata": {},
     "output_type": "display_data"
    },
    {
     "data": {
      "image/png": "[encoded data removed]",
      "text/plain": [
       "<Figure size 432x288 with 1 Axes>"
      ]
     },
     "metadata": {},
     "output_type": "display_data"
    },
    {
     "name": "stdout",
     "output_type": "stream",
     "text": [
      "              precision    recall  f1-score   support\n",
      "\n",
      "         0.0       0.92      0.86      0.89       428\n",
      "         1.0       0.49      0.64      0.56        92\n",
      "\n",
      "   micro avg       0.82      0.82      0.82       520\n",
      "   macro avg       0.70      0.75      0.72       520\n",
      "weighted avg       0.84      0.82      0.83       520\n",
      "\n"
     ]
    }
   ],
   "source": [
    "main(df,'knn',split_method = 'kfold')\n",
    "main(df,'knn',split_method = 'stratified kfold')\n",
    "main(df,'knn',split_method = 'simple')"
   ]
  },
  {
   "cell_type": "code",
   "execution_count": 891,
   "metadata": {},
   "outputs": [
    {
     "name": "stdout",
     "output_type": "stream",
     "text": [
      "kfold split\n",
      "Test Mean accuracy: 0.855\n",
      "Train Mean accuracy: 0.9098493509487509\n",
      "\n",
      "stratified kfold split\n",
      "Test Mean accuracy: 0.85\n",
      "Train Mean accuracy: 0.9076671694318753\n",
      "\n",
      "simple split\n",
      "Testing set accuracy: 0.8557692307692307\n",
      "Training set accuracy: 0.9118967452300786\n",
      "\n",
      "Confusion matrix:\n",
      "[[379  49]\n",
      " [ 26  66]]\n"
     ]
    },
    {
     "data": {
      "image/png": "[encoded data removed]",
      "text/plain": [
       "<Figure size 288x288 with 2 Axes>"
      ]
     },
     "metadata": {},
     "output_type": "display_data"
    },
    {
     "data": {
      "image/png": "[encoded data removed]",
      "text/plain": [
       "<Figure size 432x288 with 1 Axes>"
      ]
     },
     "metadata": {},
     "output_type": "display_data"
    },
    {
     "name": "stdout",
     "output_type": "stream",
     "text": [
      "              precision    recall  f1-score   support\n",
      "\n",
      "         0.0       0.94      0.89      0.91       428\n",
      "         1.0       0.57      0.72      0.64        92\n",
      "\n",
      "   micro avg       0.86      0.86      0.86       520\n",
      "   macro avg       0.75      0.80      0.77       520\n",
      "weighted avg       0.87      0.86      0.86       520\n",
      "\n"
     ]
    }
   ],
   "source": [
    "main(df,'SVC',split_method = 'kfold')\n",
    "main(df,'SVC',split_method = 'stratified kfold')\n",
    "main(df,'SVC',split_method = 'simple')"
   ]
  },
  {
   "cell_type": "code",
   "execution_count": 892,
   "metadata": {},
   "outputs": [
    {
     "name": "stdout",
     "output_type": "stream",
     "text": [
      "kfold split\n",
      "Test Mean accuracy: 0.8996153846153846\n",
      "Train Mean accuracy: 1.0\n",
      "\n",
      "stratified kfold split\n",
      "Test Mean accuracy: 0.8992307692307693\n",
      "Train Mean accuracy: 1.0\n",
      "\n",
      "simple split\n",
      "Testing set accuracy: 0.8980769230769231\n",
      "Training set accuracy: 1.0\n",
      "\n",
      "Confusion matrix:\n",
      "[[407  21]\n",
      " [ 32  60]]\n"
     ]
    },
    {
     "data": {
      "image/png": "[encoded data removed]",
      "text/plain": [
       "<Figure size 288x288 with 2 Axes>"
      ]
     },
     "metadata": {},
     "output_type": "display_data"
    },
    {
     "data": {
      "image/png": "[encoded data removed]",
      "text/plain": [
       "<Figure size 432x288 with 1 Axes>"
      ]
     },
     "metadata": {},
     "output_type": "display_data"
    },
    {
     "name": "stdout",
     "output_type": "stream",
     "text": [
      "              precision    recall  f1-score   support\n",
      "\n",
      "         0.0       0.93      0.95      0.94       428\n",
      "         1.0       0.74      0.65      0.69        92\n",
      "\n",
      "   micro avg       0.90      0.90      0.90       520\n",
      "   macro avg       0.83      0.80      0.82       520\n",
      "weighted avg       0.89      0.90      0.90       520\n",
      "\n"
     ]
    }
   ],
   "source": [
    "main(df,'random forest',split_method = 'kfold')\n",
    "main(df,'random forest',split_method = 'stratified kfold')\n",
    "main(df,'random forest',split_method = 'simple')"
   ]
  },
  {
   "cell_type": "code",
   "execution_count": 893,
   "metadata": {},
   "outputs": [
    {
     "name": "stdout",
     "output_type": "stream",
     "text": [
      "kfold split\n",
      "Test Mean accuracy: 0.838076923076923\n",
      "Train Mean accuracy: 0.8378301993649531\n",
      "\n",
      "stratified kfold split\n",
      "Test Mean accuracy: 0.8323076923076923\n",
      "Train Mean accuracy: 0.8373051784816491\n",
      "\n",
      "simple split\n",
      "Testing set accuracy: 0.8480769230769231\n",
      "Training set accuracy: 0.8265993265993266\n",
      "\n",
      "Confusion matrix:\n",
      "[[366  62]\n",
      " [ 17  75]]\n"
     ]
    },
    {
     "data": {
      "image/png": "[encoded data removed]",
      "text/plain": [
       "<Figure size 288x288 with 2 Axes>"
      ]
     },
     "metadata": {},
     "output_type": "display_data"
    },
    {
     "name": "stdout",
     "output_type": "stream",
     "text": [
      "              precision    recall  f1-score   support\n",
      "\n",
      "         0.0       0.96      0.86      0.90       428\n",
      "         1.0       0.55      0.82      0.66        92\n",
      "\n",
      "   micro avg       0.85      0.85      0.85       520\n",
      "   macro avg       0.75      0.84      0.78       520\n",
      "weighted avg       0.88      0.85      0.86       520\n",
      "\n"
     ]
    }
   ],
   "source": [
    "main(df,'linear SVC',split_method = 'kfold')\n",
    "main(df,'linear SVC',split_method = 'stratified kfold')\n",
    "main(df,'linear SVC',split_method = 'simple')"
   ]
  }
 ],
 "metadata": {
  "kernelspec": {
   "display_name": "Python 3",
   "language": "python",
   "name": "python3"
  },
  "language_info": {
   "codemirror_mode": {
    "name": "ipython",
    "version": 3
   },
   "file_extension": ".py",
   "mimetype": "text/x-python",
   "name": "python",
   "nbconvert_exporter": "python",
   "pygments_lexer": "ipython3",
   "version": "3.6.5"
  }
 },
 "nbformat": 4,
 "nbformat_minor": 2
}
